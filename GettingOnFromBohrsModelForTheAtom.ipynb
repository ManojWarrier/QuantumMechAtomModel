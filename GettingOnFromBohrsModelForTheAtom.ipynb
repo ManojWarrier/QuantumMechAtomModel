{
 "cells": [
  {
   "cell_type": "markdown",
   "metadata": {},
   "source": [
    "# Getting off From Bohr's Model for the atom\n",
    "\n",
    "SI Units are used, except where explicitly stated."
   ]
  },
  {
   "cell_type": "code",
   "execution_count": 11,
   "metadata": {},
   "outputs": [],
   "source": [
    "import numpy as np\n",
    "import scipy as sp\n",
    "epsilon_o = 8.854187817e-12    # F/m Permittivity of free space\n",
    "pi = 3.14159265359             # Value of pi\n",
    "m_e = 9.10938356e-31           # kgs mass fo an electron\n",
    "m_p = 1.672621777e-27          # kgs mass of a proton\n",
    "q_e = 1.6021766208e-19         # Coulombs (C) Charge on an electron\n",
    "q_p = 1.6021766208e-19         # Coulombs (C) Charge on a proton\n",
    "h_planck = 6.626176e-34        # (Joules sec) Planck's constant"
   ]
  },
  {
   "cell_type": "markdown",
   "metadata": {},
   "source": [
    "Centripetal Force on an electron in hydrogen atom\n",
    "$$\n",
    "CPF_e = \\frac{q_e * q_p}{4.0 * \\pi * \\epsilon_o * r_e^2} ------(1)\n",
    "$$\n",
    "where $r_e$ is the radius of the electron orbit.\n",
    "\n",
    "The centrifugal force on an electron in hydrogen atom is given by\n",
    "$$\n",
    "CFF_e = \\frac{m_e v_e^2} {r_e} ------ (2)\n",
    "$$\n",
    "\n",
    "The electron stays in an orbit where the centrifugal force balances the centripetal force.\n",
    "Therefore we can equate Eqns.(1) & (2) and re-arrange terms to get\n",
    "$$\n",
    "r_e = \\frac{e^2 m_e}{4 \\pi \\epsilon_o (m_ev_e)^2} ------(3)\n",
    "$$\n",
    "where $e = q_e = q_p$\n",
    "\n",
    "Hisenberg's Uncertainty principle (HUP) states:\n",
    "$$\n",
    "\\Delta x \\Delta P \\geq \\frac{h_{plank}}{2 \\pi} ------ (4)\n",
    "$$\n",
    "where $\\Delta x$ is the uncertainity in the position and $\\Delta P$ is the uncertainity in momentum.\n",
    "\n",
    "In Eqn.3, we do not know the velocity of the electron ($v_e$). We however have an idea that the electron\n",
    "is within a distance $r_e$ from the centre of the atom. Therefore $\\Delta x = r_e$. We use the uncertainity\n",
    "principle (Eqn.4) to obtain the uncertainity in momentum as\n",
    "$$\n",
    "\\Delta P = m_e v_e = \\frac{h_{planck}}{2 \\pi r_e} ------(5)\n",
    "$$\n",
    "\n",
    "Substituting Eqn.(5) in Eqn.(3), we get the radius of the electron orbit in the hydrogen atom is\n",
    "$$\n",
    "r_e = \\frac{\\epsilon_o h^2}{m_e \\pi e^2} ------(6)\n",
    "$$\n",
    "This is called the Bohr radius, which is the unit of length in atomic mass units (a.m.u) and is equal to"
   ]
  },
  {
   "cell_type": "code",
   "execution_count": 12,
   "metadata": {},
   "outputs": [
    {
     "name": "stdout",
     "output_type": "stream",
     "text": [
      "Bohr radius =  5.291941352091477e-11 meters\n"
     ]
    }
   ],
   "source": [
    "print (\"Bohr radius = \", epsilon_o * h_planck*h_planck / (m_e * pi * q_e*q_e), \"meters\")"
   ]
  },
  {
   "cell_type": "code",
   "execution_count": 13,
   "metadata": {},
   "outputs": [
    {
     "name": "stdout",
     "output_type": "stream",
     "text": [
      "r_e =  5.291941352091477e-11 (m)  v_e =  2187656.279227362 (m/s)  lambda_deBroglie =  3.325024814991943e-10  (m)\n"
     ]
    }
   ],
   "source": [
    "r_e = epsilon_o * h_planck*h_planck / (m_e * pi * q_e*q_e)\n",
    "v_e = h_planck / (m_e * 2 * pi * r_e)\n",
    "lambda_deBroglie = h_planck/(m_e * v_e)\n",
    "print(\"r_e = \", r_e, \"(m)  v_e = \", v_e, \"(m/s)  lambda_deBroglie = \",h_planck / (m_e * v_e),\" (m)\")"
   ]
  },
  {
   "cell_type": "code",
   "execution_count": 14,
   "metadata": {},
   "outputs": [
    {
     "data": {
      "text/latex": [
       "Since $\\lambda_{deBroglie} \\neq r_e$, interpreting the de Broglie wave as the Schrodinger wave-function is\n",
       "at first sight not valid!!. However if $\\lambda_{deBroglie}$ is defined as $\\frac {h_{planck}}{2 \\pi m_e v_e}$\n",
       "then we see that $\\lambda_{deBroglie} = r_e$. In fact this is referred to as the Dirac wavelength\n",
       "Therefore the Dirac wavelength can be interpreted as the Schrodinger wave-function."
      ],
      "text/plain": [
       "<IPython.core.display.Latex object>"
      ]
     },
     "metadata": {},
     "output_type": "display_data"
    }
   ],
   "source": [
    "%%latex\n",
    "Since $\\lambda_{deBroglie} \\neq r_e$, interpreting the de Broglie wave as the Schrodinger wave-function is\n",
    "at first sight not valid!!. However if $\\lambda_{deBroglie}$ is defined as $\\frac {h_{planck}}{2 \\pi m_e v_e}$\n",
    "then we see that $\\lambda_{deBroglie} = r_e$. Therefore with the appearance of the $2 \\pi$ in the denominator,\n",
    "the de Broglie wave can be interpreted as the Schrodinger wave-function."
   ]
  },
  {
   "cell_type": "code",
   "execution_count": 15,
   "metadata": {},
   "outputs": [
    {
     "name": "stdout",
     "output_type": "stream",
     "text": [
      "Modified lambda_deBroglie =  5.291941352091477e-11  (m), which is same as the Bohr radius!!\n"
     ]
    }
   ],
   "source": [
    "print (\"Modified lambda_deBroglie = \",h_planck / (2.0 * pi * m_e * v_e),\" (m), which is same as the Bohr radius!!\")"
   ]
  },
  {
   "cell_type": "code",
   "execution_count": 16,
   "metadata": {},
   "outputs": [
    {
     "name": "stdout",
     "output_type": "stream",
     "text": [
      "electron energy in eV (E_e) =  13.605059349876328  which is the ionization energy for the H atom\n"
     ]
    }
   ],
   "source": [
    "print (\"electron energy in eV (E_e) = \", 0.5 * m_e * v_e * v_e / 1.6022e-19, \" which is the ionization energy for the H atom\")"
   ]
  },
  {
   "cell_type": "code",
   "execution_count": 39,
   "metadata": {},
   "outputs": [
    {
     "data": {
      "text/latex": [
       "Since $v_e$ is the uncertainity n velocity, $E_e$ is the uncertainity in energy of the electron. This implies that\n",
       "at least that much energy must be given to an electron for it to escape from the proton in a hydrogen atom."
      ],
      "text/plain": [
       "<IPython.core.display.Latex object>"
      ]
     },
     "metadata": {},
     "output_type": "display_data"
    }
   ],
   "source": [
    "%%latex\n",
    "Since $v_e$ is the uncertainity n velocity, $E_e$ is the uncertainity in energy of the electron. This implies that\n",
    "at least that much energy must be given to an electron for it to escape from the proton in a hydrogen atom. "
   ]
  },
  {
   "cell_type": "code",
   "execution_count": null,
   "metadata": {},
   "outputs": [],
   "source": []
  }
 ],
 "metadata": {
  "kernelspec": {
   "display_name": "Python 3",
   "language": "python",
   "name": "python3"
  },
  "language_info": {
   "codemirror_mode": {
    "name": "ipython",
    "version": 3
   },
   "file_extension": ".py",
   "mimetype": "text/x-python",
   "name": "python",
   "nbconvert_exporter": "python",
   "pygments_lexer": "ipython3",
   "version": "3.6.4"
  }
 },
 "nbformat": 4,
 "nbformat_minor": 2
}
