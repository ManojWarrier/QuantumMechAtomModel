{
 "cells": [
  {
   "cell_type": "markdown",
   "metadata": {},
   "source": [
    "# Getting off From Bohr's Model for the atom\n",
    "\n",
    "SI Units are used, except where explicitly stated."
   ]
  },
  {
   "cell_type": "code",
   "execution_count": 29,
   "metadata": {},
   "outputs": [],
   "source": [
    "epsilon_o = 8.854187817e-12    # F/m Permittivity of free space\n",
    "pi = 3.14159265359        # Value of pi\n",
    "m_e = 9.10938356e-31           # kgs mass fo an electron\n",
    "q_e = 1.6021766208e-19          # Coulombs (C) Charge on an electron\n",
    "q_p = 1.6021766208e-19          # Coulombs (C) Charge on a proton\n",
    "h_planck = 6.626176e-34      # (Joules sec) Planck's constant"
   ]
  },
  {
   "cell_type": "markdown",
   "execution_count": 30,
   "metadata": {},
   "outputs": [
    {
     "data": {
      "text/latex": [
       "Centripetal Force on an electron in hydrogen atom\n",
       "$$\n",
       "CPF_e = \\frac{q_e q_p}{4.0 \\pi \\epsilon_o r_e} ------(1)\n",
       "$$\n",
       "where $r_e$ is the radius of the electron orbit.\n",
       "\n",
       "The centrifugal force on an electron in hydrogen atom is given by\n",
       "$$\n",
       "CFF_e = \\frac{m_e v_e^2} {r_e} ------ (2)\n",
       "$$\n",
       "\n",
       "The electron stays in an orbit where the centrifugal force balances the centripetal force.\n",
       "Therefore we can equate Eqns.(1) & (2) and re-arrange terms to get\n",
       "$$\n",
       "r_e = \\frac{e^2 m_e}{4 \\pi \\epsilon_o (m_ev_e)^2} ------(3)\n",
       "$$\n",
       "where $e = q_e = q_p$\n",
       "\n",
       "Hisenberg's Uncertainty principle (HUP) states:\n",
       "$$\n",
       "\\Delta x \\Delta P \\geq \\frac{h_{plank}}{2 \\pi} ------ (4)\n",
       "$$\n",
       "where $\\Delta x$ is the uncertainity in the position and $\\Delta P$ is the uncertainity in momentum.\n",
       "\n",
       "In Eqn.3, we do not know the velocity of the electron ($v_e$). We however have an idea that the electron\n",
       "is within a distance $r_e$ from the centre of the atom. Therefore $\\Delta x = r_e$. We use the uncertainity\n",
       "principle (Eqn.4) to obtain the uncertainity in momentum as\n",
       "$$\n",
       "\\Delta P = m_e v_e = \\frac{h_{planck}}{2 \\pi r_e} ------(5)\n",
       "$$\n",
       "\n",
       "Substituting Eqn.(5) in Eqn.(3), we get the radius of the electron orbit in the hydrogen atom is\n",
       "$$\n",
       "r_e = \\frac{\\epsilon_o h^2}{m_e \\pi e^2} ------(6)\n",
       "$$\n",
       "This is called the Bohr radius and is equal to"
      ],
      "text/plain": [
       "<IPython.core.display.Latex object>"
      ]
     },
     "metadata": {},
     "output_type": "display_data"
    }
   ],
   "source": [
    "%%latex\n",
    "Centripetal Force on an electron in hydrogen atom\n",
    "$$\n",
    "CPF_e = \\frac{q_e * q_p}{4.0 * \\pi * \\epsilon_o * r_e} ------(1)\n",
    "$$\n",
    "where $r_e$ is the radius of the electron orbit.\n",
    "\n",
    "The centrifugal force on an electron in hydrogen atom is given by\n",
    "$$\n",
    "CFF_e = \\frac{m_e v_e^2} {r_e} ------ (2)\n",
    "$$\n",
    "\n",
    "The electron stays in an orbit where the centrifugal force balances the centripetal force.\n",
    "Therefore we can equate Eqns.(1) & (2) and re-arrange terms to get\n",
    "$$\n",
    "r_e = \\frac{e^2 m_e}{4 \\pi \\epsilon_o (m_ev_e)^2} ------(3)\n",
    "$$\n",
    "where $e = q_e = q_p$\n",
    "\n",
    "Hisenberg's Uncertainty principle (HUP) states:\n",
    "$$\n",
    "\\Delta x \\Delta P \\geq \\frac{h_{plank}}{2 \\pi} ------ (4)\n",
    "$$\n",
    "where $\\Delta x$ is the uncertainity in the position and $\\Delta P$ is the uncertainity in momentum.\n",
    "\n",
    "In Eqn.3, we do not know the velocity of the electron ($v_e$). We however have an idea that the electron\n",
    "is within a distance $r_e$ from the centre of the atom. Therefore $\\Delta x = r_e$. We use the uncertainity\n",
    "principle (Eqn.4) to obtain the uncertainity in momentum as\n",
    "$$\n",
    "\\Delta P = m_e v_e = \\frac{h_{planck}}{2 \\pi r_e} ------(5)\n",
    "$$\n",
    "\n",
    "Substituting Eqn.(5) in Eqn.(3), we get the radius of the electron orbit in the hydrogen atom is\n",
    "$$\n",
    "r_e = \\frac{\\epsilon_o h^2}{m_e \\pi e^2} ------(6)\n",
    "$$\n",
    "This is called the Bohr radius, which is the unit of length in atomic mass units (a.m.u) and is equal to"
   ]
  },
  {
   "cell_type": "code",
   "execution_count": 31,
   "metadata": {},
   "outputs": [
    {
     "name": "stdout",
     "output_type": "stream",
     "text": [
      "Bohr radius =  5.291941352091477e-11 meters\n"
     ]
    }
   ],
   "source": [
    "print (\"Bohr radius = \", epsilon_o * h_planck*h_planck / (m_e * pi * q_e*q_e), \"meters\")"
   ]
  }
 ],
 "metadata": {
  "kernelspec": {
   "display_name": "Python 3",
   "language": "python",
   "name": "python3"
  },
  "language_info": {
   "codemirror_mode": {
    "name": "ipython",
    "version": 3
   },
   "file_extension": ".py",
   "mimetype": "text/x-python",
   "name": "python",
   "nbconvert_exporter": "python",
   "pygments_lexer": "ipython3",
   "version": "3.6.4"
  }
 },
 "nbformat": 4,
 "nbformat_minor": 2
}
